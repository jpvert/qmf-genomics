{
 "cells": [
  {
   "cell_type": "markdown",
   "metadata": {},
   "source": [
    "# Comparison of NMF and QMF on cancer datasets\n",
    "\n",
    "We reproduce the second sub-benchmark proposed in the [MOMIX benchmarck](https://github.com/ComputationalSystemsBiology/momix-notebook) to compare the performances of NMF and QMF on the integration of multi-omics cancer datasets from TCGA. The methods are evaluated regarding associations to survival."
   ]
  },
  {
   "cell_type": "markdown",
   "metadata": {},
   "source": [
    "## Comparison based on survival predictions\n",
    "\n",
    "We here define the function that compares the performances of NMF and QMF based on their ability to infer factors associated to survival (computed through Cox regression)."
   ]
  },
  {
   "cell_type": "code",
   "execution_count": 1,
   "metadata": {},
   "outputs": [],
   "source": [
    "library('survival')\n",
    "\n",
    "## Perform survival annotation-based comparison \n",
    "## INPUTS:\n",
    "# factorizations = already computed factorizations\n",
    "# method = methods used for factorization\n",
    "# survival = survival data associated to the cancer\n",
    "# out.folder = folder where results will be written\n",
    "# cancer = name of currently analysed cancer\n",
    "## OUPUTS: a list containing output values\n",
    "# The function also plots P-values of association, as in the original MOMIX paper\n",
    "survival_comparison_merge <- function(factorizations, method, survival, out.folder, cancer){\n",
    "    \n",
    "    # Initialize result containers\n",
    "    factors_cancer <- numeric(0)\n",
    "    surv_final <- numeric(0)\n",
    "    \n",
    "    # For each computed factorisation\n",
    "    for(i in 1:length(factorizations)){\n",
    "\n",
    "        # Extract sample factors \n",
    "        factors <- factorizations[[i]][[1]]\n",
    "\n",
    "        # Patient names in factorisation results\n",
    "        patient.names <- substr(rownames(factors),1,12) # extract just the first 12 characters of patient ID\n",
    "        # Patient names in original data\n",
    "        patient.names.in.file <- substr(as.character(survival[, 1]),1,12) # extract just the first 12 characters of patient ID\n",
    "        patient.names.in.file <- toupper(gsub('-', '\\\\.', patient.names.in.file))\n",
    "        # Remove non-matching patient names\n",
    "        is_in_file <- patient.names %in% patient.names.in.file\n",
    "        if(length(patient.names)!=sum(is_in_file)) {\n",
    "            factors <- factors[is_in_file, ]\n",
    "            patient.names <- patient.names[is_in_file]\n",
    "            rownames(factors)<-patient.names\n",
    "        }\n",
    "        # Match indices of patient names\n",
    "        indices <- match(patient.names, patient.names.in.file)\n",
    "        # Use indices to extract coresponding survival information\n",
    "        ordered.survival.data <- survival[indices,]\n",
    "        # Clean data (assign 0 to NAs)\n",
    "        ordered.survival.data$Survival[is.na(ordered.survival.data$Survival)] <- 0\n",
    "        ordered.survival.data$Death[is.na(ordered.survival.data$Death)] <- 0\n",
    "\n",
    "        # Calculate coxph\n",
    "        coxph_obj <- coxph(Surv(ordered.survival.data$Survival, ordered.survival.data$Death) ~ factors)\n",
    "        # P-values (corrected by the number of methods)\n",
    "#        pvalues <- length(factorizations)*as.matrix(coef(summary(coxph_obj))[,5])\n",
    "        pvalues <- as.matrix(coef(summary(coxph_obj))[,5])\n",
    "\n",
    "        # How many significant? \n",
    "        factors_cancer <- c(factors_cancer, sum(pvalues<0.05))\n",
    "        # Store p-values\n",
    "        surv_final <- cbind(surv_final, sort(pvalues)) \n",
    "    }\n",
    "    surv_merge <- numeric(0)\n",
    "    umethod <- unique(method)\n",
    "    for (m in umethod) {\n",
    "        col <- which(method %in% m)\n",
    "        replicates <- surv_final[,col,drop=FALSE]\n",
    "        sorted_replicates <- matrix(sort(replicates),nrow=length(col))\n",
    "        surv_merge <- cbind(surv_merge, apply(sorted_replicates,2,mean))\n",
    "    }\n",
    "\n",
    "    # Keep -log10 of p-values\n",
    "    surv_final<-(-log10(surv_merge))\n",
    "    surv_final_red <- surv_final\n",
    "    surv_final_red[surv_final <= -log10(0.05)] <- NA\n",
    "    # Plot survival pvalues for each cancer type separately\n",
    "    png(file=paste0(out.folder, \"survival_\", cancer, \".png\"), width = 3, height = 5, units = 'in', res = 200)\n",
    "    par(mar = c(2, 4, 2, 0)+0.1)\n",
    "    matplot(1:length(umethod), t(surv_final), \n",
    "            col=\"black\", pch=18, xlab=\"\", ylab=\"-log(corrected P-value survival)\", main=cancer, cex=1.5, ylim=c(0, 2.5), xlim=c(0.5, 2.5), xaxt=\"none\")\n",
    "    matplot(1:length(umethod), t(surv_final_red), \n",
    "            col=\"red\", pch=18, xaxt=\"none\", cex=1.5, add=T)\n",
    "    abline(h = (-log10(0.05)), v=0, col=\"black\", lty=3, lwd=3)\n",
    "    axis(1, at=1:length(umethod), labels=umethod) \n",
    "    dev.off()\n",
    "    \n",
    "    # Same plot, without y axis\n",
    "    png(file=paste0(out.folder, \"survival_\", cancer, \"_noyaxis.png\"), width = 2, height = 5, units = 'in', res = 200)\n",
    "    par(mar = c(2, 0, 2, 0)+0.1)\n",
    "    matplot(1:length(umethod), t(surv_final), \n",
    "            col=\"black\", pch=18, xlab=\"\", ylab=\"Pvalues survival\", main=cancer, cex=1.5, ylim=c(0, 2.5), xlim=c(0.5, 2.5), xaxt=\"none\")\n",
    "    matplot(1:length(umethod), t(surv_final_red), \n",
    "            col=\"red\", pch=18, xaxt=\"none\", cex=1.5, add=T)\n",
    "    abline(h = (-log10(0.05)), v=0, col=\"black\", lty=3, lwd=3)\n",
    "    axis(1, at=1:length(umethod), labels=umethod) \n",
    "    dev.off()\n",
    "\n",
    "    return(surv_final)\n",
    "}"
   ]
  },
  {
   "cell_type": "markdown",
   "metadata": {},
   "source": [
    "## Running the comparisons in cancer\n",
    "\n",
    "Here we run the comparison on the cancer data. The NMF and QMF factorizations have been computed offline, and the resulting factors are stored in the data/factorizations directory."
   ]
  },
  {
   "cell_type": "code",
   "execution_count": 2,
   "metadata": {},
   "outputs": [],
   "source": [
    "# Function to read the factorizations of NMF and QMF\n",
    "readmydata <- function(cancer, rpath, numfact=10) {\n",
    "    factorizations<-list()\n",
    "    method <- c()\n",
    "    methodpath <- c()\n",
    "\n",
    "    listdir <- list.dirs(rpath)\n",
    "    listdir <- listdir[grepl(paste0('dataset=',cancer), listdir, fixed=TRUE)]\n",
    "    listdir <- listdir[grepl('/results', listdir, fixed=TRUE)]\n",
    "    \n",
    "    isnmf <- grepl('NMF', listdir, fixed=TRUE)\n",
    "    isqmf <- grepl('@Suquan', listdir, fixed=TRUE)\n",
    "    islog <- grepl('to_log2=exp,methy', listdir, fixed=TRUE)\n",
    "\n",
    "\n",
    "    ipath <- which(isnmf & islog)\n",
    "    if (length(ipath)>0) {\n",
    "        for (i in ipath) {\n",
    "            method <- c(method, \"NMF\")\n",
    "            methodpath <- c(methodpath, listdir[i])\n",
    "        }\n",
    "    }\n",
    "\n",
    "    ipath <- which(isqmf & islog & grepl('regularization_factor=0.001:', listdir, fixed=TRUE))\n",
    "    if (length(ipath)>0) {\n",
    "        for (i in ipath) {\n",
    "            method <- c(method, \"QMF\")\n",
    "            methodpath <- c(methodpath, listdir[i])\n",
    "        }    \n",
    "    }\n",
    "\n",
    "    t<-1\n",
    "    for (mypath in methodpath) {\n",
    "        myv <- as.matrix(read.table(paste0(mypath, \"/v.csv\"), sep=\",\", header=FALSE, row.names = 1))\n",
    "        colnames(myv) <- 1:numfact\n",
    "        myu1 <- as.matrix(read.table(paste0(mypath, \"/u_exp.csv\"), sep=\",\", header=FALSE, row.names = 1))\n",
    "        colnames(myu1) <- 1:numfact\n",
    "        myu2 <- as.matrix(read.table(paste0(mypath, \"/u_methy.csv\"), sep=\",\", header=FALSE, row.names = 1))\n",
    "        colnames(myu1) <- 1:numfact\n",
    "        myu3 <- as.matrix(read.table(paste0(mypath, \"/u_mirna.csv\"), sep=\",\", header=FALSE, row.names = 1))\n",
    "        colnames(myu1) <- 1:numfact\n",
    "        \n",
    "        factorizations[[t]]<-list(myv, list(myu1, myu2, myu3))\n",
    "        if (max(abs(myv))+max(abs(myu1))+max(abs(myu2))+max(abs(myu3)) > 1e10) {\n",
    "            print(paste('Warning: large values in ',mypath))\n",
    "        }\n",
    "\n",
    "        t <- t+1\n",
    "    }\n",
    "    return(list(factorizations=factorizations,method=method))\n",
    "}"
   ]
  },
  {
   "cell_type": "code",
   "execution_count": 3,
   "metadata": {},
   "outputs": [
    {
     "name": "stderr",
     "output_type": "stream",
     "text": [
      "Warning message in as.POSIXlt.POSIXct(x, tz):\n",
      "“unknown timezone 'zone/tz/2019c.1.0/zoneinfo/Europe/Paris'”\n"
     ]
    },
    {
     "name": "stdout",
     "output_type": "stream",
     "text": [
      "[1] \"Now analysing ../data/cancer/aml\"\n"
     ]
    },
    {
     "name": "stderr",
     "output_type": "stream",
     "text": [
      "Warning message in min(x):\n",
      "“aucun argument trouvé pour min ; Inf est renvoyé”\n",
      "Warning message in max(x):\n",
      "“aucun argument pour max ; -Inf est renvoyé”\n",
      "Warning message in min(x):\n",
      "“aucun argument trouvé pour min ; Inf est renvoyé”\n",
      "Warning message in max(x):\n",
      "“aucun argument pour max ; -Inf est renvoyé”\n"
     ]
    },
    {
     "name": "stdout",
     "output_type": "stream",
     "text": [
      "[1] \"Now analysing ../data/cancer/breast\"\n",
      "[1] \"Now analysing ../data/cancer/colon\"\n"
     ]
    },
    {
     "name": "stderr",
     "output_type": "stream",
     "text": [
      "Warning message in min(x):\n",
      "“aucun argument trouvé pour min ; Inf est renvoyé”\n",
      "Warning message in max(x):\n",
      "“aucun argument pour max ; -Inf est renvoyé”\n",
      "Warning message in min(x):\n",
      "“aucun argument trouvé pour min ; Inf est renvoyé”\n",
      "Warning message in max(x):\n",
      "“aucun argument pour max ; -Inf est renvoyé”\n"
     ]
    },
    {
     "name": "stdout",
     "output_type": "stream",
     "text": [
      "[1] \"Now analysing ../data/cancer/gbm\"\n"
     ]
    },
    {
     "name": "stderr",
     "output_type": "stream",
     "text": [
      "Warning message in min(x):\n",
      "“aucun argument trouvé pour min ; Inf est renvoyé”\n",
      "Warning message in max(x):\n",
      "“aucun argument pour max ; -Inf est renvoyé”\n",
      "Warning message in min(x):\n",
      "“aucun argument trouvé pour min ; Inf est renvoyé”\n",
      "Warning message in max(x):\n",
      "“aucun argument pour max ; -Inf est renvoyé”\n"
     ]
    },
    {
     "name": "stdout",
     "output_type": "stream",
     "text": [
      "[1] \"Now analysing ../data/cancer/kidney\"\n"
     ]
    },
    {
     "name": "stderr",
     "output_type": "stream",
     "text": [
      "Warning message in min(x):\n",
      "“aucun argument trouvé pour min ; Inf est renvoyé”\n",
      "Warning message in max(x):\n",
      "“aucun argument pour max ; -Inf est renvoyé”\n",
      "Warning message in min(x):\n",
      "“aucun argument trouvé pour min ; Inf est renvoyé”\n",
      "Warning message in max(x):\n",
      "“aucun argument pour max ; -Inf est renvoyé”\n"
     ]
    },
    {
     "name": "stdout",
     "output_type": "stream",
     "text": [
      "[1] \"Now analysing ../data/cancer/liver\"\n",
      "[1] \"Now analysing ../data/cancer/lung\"\n",
      "[1] \"Now analysing ../data/cancer/melanoma\"\n",
      "[1] \"Now analysing ../data/cancer/sarcoma\"\n"
     ]
    }
   ],
   "source": [
    "# List cancer data.\n",
    "# Exclude first result as it's the parent folder\n",
    "cancers <- list.dirs(path = \"../data/cancer\", full.names = TRUE, recursive = TRUE)[-1]\n",
    "# We have no results for ovarian\n",
    "cancers <- cancers[-grep('ovarian',cancers,fixed=TRUE)]\n",
    "\n",
    "# Label to identify current run\n",
    "tag <- format(Sys.time(), \"%Y%m%d%H%M%S\")\n",
    "# Folder for comparison results\n",
    "results_folder <- paste0(\"../results\", tag, \"/\")\n",
    "# Create output folder\n",
    "dir.create(results_folder, showWarnings = FALSE)\n",
    "\n",
    "# Number of factors used in the paper\n",
    "num.factors <- 10\n",
    "\n",
    "for(i in cancers){\n",
    "\n",
    "    print(paste0(\"Now analysing \", i))\n",
    "    \n",
    "    # Name of current cancer\n",
    "    current_cancer <- basename(i)\n",
    "\n",
    "    # Perform factorisation\n",
    "    out <- readmydata(current_cancer, '../data/factorizations')\n",
    "\n",
    "    # Survival analysis\n",
    "    survival <- read.table(paste0(i, \"/survival\"), sep=\"\\t\", header=TRUE)\n",
    "    out_survival <- survival_comparison_merge(out$factorizations, out$method, survival, \n",
    "                                        results_folder, current_cancer)\n",
    "}    \n"
   ]
  }
 ],
 "metadata": {
  "kernelspec": {
   "display_name": "R",
   "language": "R",
   "name": "ir"
  },
  "language_info": {
   "codemirror_mode": "r",
   "file_extension": ".r",
   "mimetype": "text/x-r-source",
   "name": "R",
   "pygments_lexer": "r",
   "version": "3.4.0"
  }
 },
 "nbformat": 4,
 "nbformat_minor": 2
}
